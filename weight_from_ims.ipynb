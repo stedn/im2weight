{
 "cells": [
  {
   "cell_type": "code",
   "execution_count": 30,
   "metadata": {
    "collapsed": true
   },
   "outputs": [],
   "source": [
    "from imageai.Prediction.Custom import CustomImagePrediction\n",
    "import os\n",
    "\n",
    "execution_path = os.getcwd()\n",
    "\n",
    "prediction = CustomImagePrediction()\n",
    "prediction.setModelTypeAsResNet()\n",
    "prediction.setModelPath(os.path.join(execution_path, \"female_model_6.h5\"))\n",
    "prediction.setJsonPath(os.path.join(execution_path, \"female_model_class.json\"))\n",
    "prediction.loadModel(num_objects=6)"
   ]
  },
  {
   "cell_type": "code",
   "execution_count": 34,
   "metadata": {
    "collapsed": false
   },
   "outputs": [
    {
     "name": "stderr",
     "output_type": "stream",
     "text": [
      "/usr/local/lib/python3.6/site-packages/numpy/core/_methods.py:135: RuntimeWarning: Degrees of freedom <= 0 for slice\n",
      "  keepdims=keepdims)\n",
      "/usr/local/lib/python3.6/site-packages/numpy/core/_methods.py:127: RuntimeWarning: invalid value encountered in double_scalars\n",
      "  ret = ret.dtype.type(ret / rcount)\n"
     ]
    }
   ],
   "source": [
    "\n",
    "cities = ['memphis', 'akron', 'detroit', 'chicago', 'san francisco', 'denver']\n",
    "\n",
    "import glob\n",
    "from scipy import stats\n",
    "import numpy as np\n",
    "\n",
    "results_city = {}\n",
    "for city in cities:\n",
    "    city_results = []\n",
    "    for f in glob.glob('cleaned_images_city/'+city+'/*.jpeg'):\n",
    "        predictions, probabilities = prediction.predictImage(f, result_count=1)\n",
    "        if float(probabilities[0])>60:\n",
    "            city_results.append(int(predictions[0]))\n",
    "    tst = np.array(city_results)\n",
    "    results_city[city]={'mean':tst.mean(),'std':stats.sem(tst)}"
   ]
  },
  {
   "cell_type": "code",
   "execution_count": 35,
   "metadata": {
    "collapsed": false
   },
   "outputs": [
    {
     "data": {
      "text/plain": [
       "{'memphis': {'mean': 4.0, 'std': nan},\n",
       " 'akron': {'mean': 2.625, 'std': 0.6797452253812243},\n",
       " 'detroit': {'mean': 4.0, 'std': 0.0},\n",
       " 'chicago': {'mean': 3.090909090909091, 'std': 0.4758637210291782},\n",
       " 'san francisco': {'mean': 1.7142857142857142, 'std': 0.8081220356417684},\n",
       " 'denver': {'mean': 2.0, 'std': 0.7559289460184544}}"
      ]
     },
     "execution_count": 35,
     "metadata": {},
     "output_type": "execute_result"
    }
   ],
   "source": [
    "results_city"
   ]
  },
  {
   "cell_type": "code",
   "execution_count": 36,
   "metadata": {
    "collapsed": true
   },
   "outputs": [],
   "source": [
    "import matplotlib.pyplot as plt"
   ]
  },
  {
   "cell_type": "code",
   "execution_count": 49,
   "metadata": {
    "collapsed": false
   },
   "outputs": [
    {
     "data": {
      "text/plain": [
       "Text(0,0.5,'average weight bucket')"
      ]
     },
     "execution_count": 49,
     "metadata": {},
     "output_type": "execute_result"
    },
    {
     "data": {
      "image/png": "[encoded data removed]",
      "text/plain": [
       "<Figure size 432x288 with 1 Axes>"
      ]
     },
     "metadata": {},
     "output_type": "display_data"
    }
   ],
   "source": [
    "cs = []\n",
    "mns = []\n",
    "ses = []\n",
    "for c in results_city:\n",
    "    mn = results_city[c]['mean']\n",
    "    se = results_city[c]['std']\n",
    "    cs.append(c)\n",
    "    mns.append(mn)\n",
    "    ses.append(se)\n",
    "plt.errorbar(cs,mns,ses)\n",
    "plt.ylabel('average weight bucket')"
   ]
  },
  {
   "cell_type": "code",
   "execution_count": 100,
   "metadata": {
    "collapsed": false
   },
   "outputs": [],
   "source": [
    "res = []\n",
    "for f in glob.glob('cleaned_images_picaday/*.jpeg'):\n",
    "    index = int(f.split('/')[1].split('.')[0])\n",
    "    predictions, probabilities = prediction.predictImage(f, result_count=1)\n",
    "    if(float(probabilities[0])>55):\n",
    "        res.append((index, int(predictions[0])))\n",
    "arr_res = np.array(res)"
   ]
  },
  {
   "cell_type": "code",
   "execution_count": 102,
   "metadata": {
    "collapsed": false
   },
   "outputs": [
    {
     "data": {
      "text/plain": [
       "Text(0.5,0,'selfie #')"
      ]
     },
     "execution_count": 102,
     "metadata": {},
     "output_type": "execute_result"
    },
    {
     "data": {
      "image/png": "[encoded data removed]",
      "text/plain": [
       "<Figure size 432x288 with 1 Axes>"
      ]
     },
     "metadata": {},
     "output_type": "display_data"
    }
   ],
   "source": [
    "arr_ordered = np.sort(arr_res.view('i8,i8'),axis=0,order=['f0']).view(np.int)\n",
    "plt.scatter(arr_ordered[:,0],arr_ordered[:,1])\n",
    "plt.ylabel('weight bucket')\n",
    "plt.xlabel('selfie #')\n",
    "# print(arr_ordered[:10,1].mean())\n",
    "# print(arr_ordered[10:20,1].mean())\n",
    "# print(arr_ordered[20:30,1].mean())\n",
    "# print(arr_ordered[30:40,1].mean())\n",
    "# print(arr_ordered[40:50,1].mean())\n",
    "# print(arr_ordered[50:60,1].mean())\n",
    "# print(arr_ordered[60:70,1].mean())\n",
    "# print(arr_ordered[70:80,1].mean())"
   ]
  },
  {
   "cell_type": "code",
   "execution_count": 9,
   "metadata": {
    "collapsed": true
   },
   "outputs": [],
   "source": [
    "execution_path = os.getcwd()\n",
    "\n",
    "prediction = CustomImagePrediction()\n",
    "prediction.setModelTypeAsResNet()\n",
    "prediction.setModelPath(os.path.join(execution_path, \"male_model.h5\"))\n",
    "prediction.setJsonPath(os.path.join(execution_path, \"male_model_class.json\"))\n",
    "prediction.loadModel(num_objects=4)"
   ]
  },
  {
   "cell_type": "code",
   "execution_count": 16,
   "metadata": {
    "collapsed": false
   },
   "outputs": [],
   "source": [
    "import pandas as pd\n",
    "min_val = 100\n",
    "max_val = 450\n",
    "root_directory = 'holdout_set/male/'\n",
    "files = glob.glob(root_directory+'/*/*')\n",
    "vals = [int(f.split('/')[-1].split('__')[0]) for f in files]\n",
    "\n",
    "bin_maxes = np.array([185,235,360,445]) # male 4\n",
    "# bin_maxes = np.array([150,185,235,400]) # female 4\n",
    "\n",
    "# bin_maxes = np.array([142,165,195,235,353,400])\n",
    "results = []\n",
    "for v, f in sorted(zip(vals,files)):\n",
    "    if v < max_val and v > min_val:\n",
    "        try:\n",
    "            predictions, probabilities = prediction.predictImage(f, result_count=1)\n",
    "            bn = np.where(v < bin_maxes)[0][0]\n",
    "            results.append({'truth':bn, 'prediction':int(predictions[0]), 'prob':float(probabilities[0])})\n",
    "        except:\n",
    "            print('uhoh {}'.format(f))\n",
    "df_ev = pd.DataFrame.from_records(results)"
   ]
  },
  {
   "cell_type": "code",
   "execution_count": 17,
   "metadata": {
    "collapsed": false
   },
   "outputs": [
    {
     "data": {
      "text/plain": [
       "<matplotlib.axes._subplots.AxesSubplot at 0x12a475198>"
      ]
     },
     "execution_count": 17,
     "metadata": {},
     "output_type": "execute_result"
    },
    {
     "data": {
      "image/png": "[encoded data removed]",
      "text/plain": [
       "<Figure size 432x288 with 1 Axes>"
      ]
     },
     "metadata": {},
     "output_type": "display_data"
    }
   ],
   "source": [
    "df_ev['error']=(df_ev['truth']-df_ev['prediction']).abs()\n",
    "df_ev.plot.scatter('prob','error')"
   ]
  },
  {
   "cell_type": "code",
   "execution_count": 25,
   "metadata": {
    "collapsed": false
   },
   "outputs": [
    {
     "data": {
      "text/plain": [
       "0.6324555320336759"
      ]
     },
     "execution_count": 25,
     "metadata": {},
     "output_type": "execute_result"
    }
   ],
   "source": [
    "np.sqrt((df_ev.loc[df_ev['prob']>70,'truth']-df_ev.loc[df_ev['prob']>70,'prediction']).pow(2).mean())"
   ]
  },
  {
   "cell_type": "code",
   "execution_count": 24,
   "metadata": {
    "collapsed": false
   },
   "outputs": [
    {
     "data": {
      "text/plain": [
       "0.6531972647421809"
      ]
     },
     "execution_count": 24,
     "metadata": {},
     "output_type": "execute_result"
    }
   ],
   "source": [
    "np.sqrt((df_ev.loc[df_ev['prob']>70,'truth']-df_ev.loc[df_ev['prob']>70,'truth'].mean()).pow(2).mean())"
   ]
  },
  {
   "cell_type": "code",
   "execution_count": null,
   "metadata": {
    "collapsed": true
   },
   "outputs": [],
   "source": []
  }
 ],
 "metadata": {
  "anaconda-cloud": {},
  "kernelspec": {
   "display_name": "Python 3",
   "language": "python",
   "name": "python3"
  },
  "language_info": {
   "codemirror_mode": {
    "name": "ipython",
    "version": 3
   },
   "file_extension": ".py",
   "mimetype": "text/x-python",
   "name": "python",
   "nbconvert_exporter": "python",
   "pygments_lexer": "ipython3",
   "version": "3.6.4"
  }
 },
 "nbformat": 4,
 "nbformat_minor": 1
}
